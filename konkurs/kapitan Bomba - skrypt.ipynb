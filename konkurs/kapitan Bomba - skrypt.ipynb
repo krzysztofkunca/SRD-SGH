{
 "cells": [
  {
   "cell_type": "markdown",
   "metadata": {},
   "source": [
    "https://raw.githubusercontent.com/KrainskiL/SRD_Z2021/master/Konkurs/IPA.csv"
   ]
  },
  {
   "cell_type": "code",
   "execution_count": 17,
   "metadata": {},
   "outputs": [
    {
     "data": {
      "text/plain": [
       "1884350"
      ]
     },
     "execution_count": 17,
     "metadata": {},
     "output_type": "execute_result"
    }
   ],
   "source": [
    "import requests\n",
    "url = 'https://raw.githubusercontent.com/KrainskiL/SRD_Z2021/master/Konkurs/IPA.csv'\n",
    "r = requests.get(url, allow_redirects=True)\n",
    "title = 'IPA.csv'\n",
    "open(title, 'wb').write(r.content)"
   ]
  },
  {
   "cell_type": "code",
   "execution_count": 18,
   "metadata": {},
   "outputs": [],
   "source": [
    "import pandas as pd\n",
    "fileName = title\n",
    "df = pd.read_csv(filepath_or_buffer= fileName, \n",
    "#                         header=None,\n",
    "                        na_values = ['?', ' ?'],\n",
    "                        sep=',', \n",
    "                        engine='python')"
   ]
  },
  {
   "cell_type": "code",
   "execution_count": 19,
   "metadata": {},
   "outputs": [
    {
     "data": {
      "text/html": [
       "<div>\n",
       "<style scoped>\n",
       "    .dataframe tbody tr th:only-of-type {\n",
       "        vertical-align: middle;\n",
       "    }\n",
       "\n",
       "    .dataframe tbody tr th {\n",
       "        vertical-align: top;\n",
       "    }\n",
       "\n",
       "    .dataframe thead th {\n",
       "        text-align: right;\n",
       "    }\n",
       "</style>\n",
       "<table border=\"1\" class=\"dataframe\">\n",
       "  <thead>\n",
       "    <tr style=\"text-align: right;\">\n",
       "      <th></th>\n",
       "      <th>IsIPA</th>\n",
       "      <th>OG</th>\n",
       "      <th>FG</th>\n",
       "      <th>ABV</th>\n",
       "      <th>IBU</th>\n",
       "      <th>Color</th>\n",
       "      <th>BoilTime</th>\n",
       "      <th>BoilGravity</th>\n",
       "      <th>PitchRate</th>\n",
       "      <th>Efficiency</th>\n",
       "      <th>UserId</th>\n",
       "    </tr>\n",
       "  </thead>\n",
       "  <tbody>\n",
       "    <tr>\n",
       "      <th>0</th>\n",
       "      <td>False</td>\n",
       "      <td>1.069</td>\n",
       "      <td>1.007</td>\n",
       "      <td>8.12</td>\n",
       "      <td>0.00</td>\n",
       "      <td>30.48</td>\n",
       "      <td>60</td>\n",
       "      <td>NaN</td>\n",
       "      <td>NaN</td>\n",
       "      <td>75.0</td>\n",
       "      <td>NaN</td>\n",
       "    </tr>\n",
       "    <tr>\n",
       "      <th>1</th>\n",
       "      <td>False</td>\n",
       "      <td>1.064</td>\n",
       "      <td>1.012</td>\n",
       "      <td>6.80</td>\n",
       "      <td>9.36</td>\n",
       "      <td>9.85</td>\n",
       "      <td>60</td>\n",
       "      <td>1.132</td>\n",
       "      <td>0.50</td>\n",
       "      <td>35.0</td>\n",
       "      <td>NaN</td>\n",
       "    </tr>\n",
       "    <tr>\n",
       "      <th>2</th>\n",
       "      <td>False</td>\n",
       "      <td>1.061</td>\n",
       "      <td>1.015</td>\n",
       "      <td>6.08</td>\n",
       "      <td>28.31</td>\n",
       "      <td>35.83</td>\n",
       "      <td>60</td>\n",
       "      <td>1.044</td>\n",
       "      <td>0.35</td>\n",
       "      <td>83.0</td>\n",
       "      <td>42087.0</td>\n",
       "    </tr>\n",
       "    <tr>\n",
       "      <th>3</th>\n",
       "      <td>False</td>\n",
       "      <td>1.053</td>\n",
       "      <td>1.012</td>\n",
       "      <td>5.44</td>\n",
       "      <td>46.48</td>\n",
       "      <td>5.77</td>\n",
       "      <td>60</td>\n",
       "      <td>1.033</td>\n",
       "      <td>NaN</td>\n",
       "      <td>70.0</td>\n",
       "      <td>NaN</td>\n",
       "    </tr>\n",
       "    <tr>\n",
       "      <th>4</th>\n",
       "      <td>False</td>\n",
       "      <td>1.053</td>\n",
       "      <td>1.017</td>\n",
       "      <td>4.64</td>\n",
       "      <td>42.29</td>\n",
       "      <td>4.22</td>\n",
       "      <td>90</td>\n",
       "      <td>1.039</td>\n",
       "      <td>0.50</td>\n",
       "      <td>77.0</td>\n",
       "      <td>14729.0</td>\n",
       "    </tr>\n",
       "    <tr>\n",
       "      <th>...</th>\n",
       "      <td>...</td>\n",
       "      <td>...</td>\n",
       "      <td>...</td>\n",
       "      <td>...</td>\n",
       "      <td>...</td>\n",
       "      <td>...</td>\n",
       "      <td>...</td>\n",
       "      <td>...</td>\n",
       "      <td>...</td>\n",
       "      <td>...</td>\n",
       "      <td>...</td>\n",
       "    </tr>\n",
       "    <tr>\n",
       "      <th>36995</th>\n",
       "      <td>False</td>\n",
       "      <td>1.069</td>\n",
       "      <td>1.012</td>\n",
       "      <td>7.39</td>\n",
       "      <td>71.03</td>\n",
       "      <td>3.95</td>\n",
       "      <td>75</td>\n",
       "      <td>1.051</td>\n",
       "      <td>NaN</td>\n",
       "      <td>70.0</td>\n",
       "      <td>NaN</td>\n",
       "    </tr>\n",
       "    <tr>\n",
       "      <th>36996</th>\n",
       "      <td>False</td>\n",
       "      <td>1.063</td>\n",
       "      <td>1.016</td>\n",
       "      <td>6.22</td>\n",
       "      <td>0.00</td>\n",
       "      <td>7.41</td>\n",
       "      <td>60</td>\n",
       "      <td>1.058</td>\n",
       "      <td>NaN</td>\n",
       "      <td>70.0</td>\n",
       "      <td>NaN</td>\n",
       "    </tr>\n",
       "    <tr>\n",
       "      <th>36997</th>\n",
       "      <td>True</td>\n",
       "      <td>1.056</td>\n",
       "      <td>1.015</td>\n",
       "      <td>5.50</td>\n",
       "      <td>38.05</td>\n",
       "      <td>20.59</td>\n",
       "      <td>60</td>\n",
       "      <td>1.089</td>\n",
       "      <td>0.75</td>\n",
       "      <td>70.0</td>\n",
       "      <td>NaN</td>\n",
       "    </tr>\n",
       "    <tr>\n",
       "      <th>36998</th>\n",
       "      <td>True</td>\n",
       "      <td>1.068</td>\n",
       "      <td>1.019</td>\n",
       "      <td>6.40</td>\n",
       "      <td>65.08</td>\n",
       "      <td>9.90</td>\n",
       "      <td>60</td>\n",
       "      <td>1.050</td>\n",
       "      <td>NaN</td>\n",
       "      <td>70.0</td>\n",
       "      <td>65316.0</td>\n",
       "    </tr>\n",
       "    <tr>\n",
       "      <th>36999</th>\n",
       "      <td>False</td>\n",
       "      <td>1.056</td>\n",
       "      <td>1.010</td>\n",
       "      <td>6.08</td>\n",
       "      <td>26.44</td>\n",
       "      <td>31.95</td>\n",
       "      <td>90</td>\n",
       "      <td>1.045</td>\n",
       "      <td>NaN</td>\n",
       "      <td>70.0</td>\n",
       "      <td>46204.0</td>\n",
       "    </tr>\n",
       "  </tbody>\n",
       "</table>\n",
       "<p>37000 rows × 11 columns</p>\n",
       "</div>"
      ],
      "text/plain": [
       "       IsIPA     OG     FG   ABV    IBU  Color  BoilTime  BoilGravity  \\\n",
       "0      False  1.069  1.007  8.12   0.00  30.48        60          NaN   \n",
       "1      False  1.064  1.012  6.80   9.36   9.85        60        1.132   \n",
       "2      False  1.061  1.015  6.08  28.31  35.83        60        1.044   \n",
       "3      False  1.053  1.012  5.44  46.48   5.77        60        1.033   \n",
       "4      False  1.053  1.017  4.64  42.29   4.22        90        1.039   \n",
       "...      ...    ...    ...   ...    ...    ...       ...          ...   \n",
       "36995  False  1.069  1.012  7.39  71.03   3.95        75        1.051   \n",
       "36996  False  1.063  1.016  6.22   0.00   7.41        60        1.058   \n",
       "36997   True  1.056  1.015  5.50  38.05  20.59        60        1.089   \n",
       "36998   True  1.068  1.019  6.40  65.08   9.90        60        1.050   \n",
       "36999  False  1.056  1.010  6.08  26.44  31.95        90        1.045   \n",
       "\n",
       "       PitchRate  Efficiency   UserId  \n",
       "0            NaN        75.0      NaN  \n",
       "1           0.50        35.0      NaN  \n",
       "2           0.35        83.0  42087.0  \n",
       "3            NaN        70.0      NaN  \n",
       "4           0.50        77.0  14729.0  \n",
       "...          ...         ...      ...  \n",
       "36995        NaN        70.0      NaN  \n",
       "36996        NaN        70.0      NaN  \n",
       "36997       0.75        70.0      NaN  \n",
       "36998        NaN        70.0  65316.0  \n",
       "36999        NaN        70.0  46204.0  \n",
       "\n",
       "[37000 rows x 11 columns]"
      ]
     },
     "execution_count": 19,
     "metadata": {},
     "output_type": "execute_result"
    }
   ],
   "source": [
    "df"
   ]
  },
  {
   "cell_type": "markdown",
   "metadata": {},
   "source": [
    "Description of data in IPA.csv file.\n",
    "Dataset contains 37 000 observations about craft beers from whole world.\n",
    "Data from Brewer's Friend website.\n",
    "Columns:\n",
    "IsIPA - Is given beer an IPA?\n",
    "OG - Specific gravity of wort before fermentation\n",
    "FG - Specific gravity of wort after fermentation\n",
    "ABV - Alcohol By Volume\n",
    "IBU - International Bittering Units\n",
    "Color - Standard Reference Method - light to dark ex. 40 = black\n",
    "BoilGravity - Specific gravity of wort before the boil\n",
    "PitchRate - Yeast added to the fermentor per gravity unit - M cells/ml/deg P\n",
    "Efficiency - Beer mash extraction efficiency - extracting sugars from the grain during mash\n",
    "UserId - ID of Brewer's Friend user who shared data"
   ]
  },
  {
   "cell_type": "code",
   "execution_count": 9,
   "metadata": {},
   "outputs": [
    {
     "data": {
      "text/plain": [
       "IsIPA              0\n",
       "OG                 0\n",
       "FG                 0\n",
       "ABV                0\n",
       "IBU                0\n",
       "Color              0\n",
       "BoilTime           0\n",
       "BoilGravity     1328\n",
       "PitchRate      19645\n",
       "Efficiency         0\n",
       "UserId         25448\n",
       "dtype: int64"
      ]
     },
     "execution_count": 9,
     "metadata": {},
     "output_type": "execute_result"
    }
   ],
   "source": [
    "# missing data\n",
    "df.isnull().sum()"
   ]
  },
  {
   "cell_type": "code",
   "execution_count": 25,
   "metadata": {},
   "outputs": [],
   "source": [
    "df.fillna(0, inplace=True)"
   ]
  },
  {
   "cell_type": "code",
   "execution_count": 26,
   "metadata": {},
   "outputs": [
    {
     "data": {
      "text/plain": [
       "IsIPA          0\n",
       "OG             0\n",
       "FG             0\n",
       "ABV            0\n",
       "IBU            0\n",
       "Color          0\n",
       "BoilTime       0\n",
       "BoilGravity    0\n",
       "PitchRate      0\n",
       "Efficiency     0\n",
       "UserId         0\n",
       "dtype: int64"
      ]
     },
     "execution_count": 26,
     "metadata": {},
     "output_type": "execute_result"
    }
   ],
   "source": [
    "# missing data\n",
    "df.isnull().sum()"
   ]
  },
  {
   "cell_type": "markdown",
   "metadata": {},
   "source": [
    "# test data:\n",
    "https://github.com/KrainskiL/SRD_Z2021/blob/master/Konkurs/IPA_test.csv"
   ]
  },
  {
   "cell_type": "code",
   "execution_count": 45,
   "metadata": {},
   "outputs": [],
   "source": [
    "import requests\n",
    "url = 'https://raw.githubusercontent.com/KrainskiL/SRD_Z2021/master/Konkurs/IPA_test.csv'\n",
    "r = requests.get(url, allow_redirects=True)\n",
    "title = 'IPA_test.csv'\n",
    "open(title, 'wb').write(r.content)\n",
    "\n",
    "import pandas as pd\n",
    "fileName = title\n",
    "X_test = pd.read_csv(filepath_or_buffer= fileName, \n",
    "#                         header=None,\n",
    "                        na_values = ['?', ' ?'],\n",
    "                        sep=',', \n",
    "                        engine='python')"
   ]
  },
  {
   "cell_type": "code",
   "execution_count": 46,
   "metadata": {},
   "outputs": [
    {
     "data": {
      "text/plain": [
       "OG                0\n",
       "FG                0\n",
       "ABV               0\n",
       "IBU               0\n",
       "Color             0\n",
       "BoilTime          0\n",
       "BoilGravity     156\n",
       "PitchRate      2622\n",
       "Efficiency        0\n",
       "UserId         3436\n",
       "dtype: int64"
      ]
     },
     "execution_count": 46,
     "metadata": {},
     "output_type": "execute_result"
    }
   ],
   "source": [
    "# missing data\n",
    "X_test.isnull().sum()"
   ]
  },
  {
   "cell_type": "code",
   "execution_count": 48,
   "metadata": {},
   "outputs": [],
   "source": [
    "X_test.fillna(0, inplace=True)"
   ]
  },
  {
   "cell_type": "code",
   "execution_count": 49,
   "metadata": {},
   "outputs": [
    {
     "data": {
      "text/html": [
       "<div>\n",
       "<style scoped>\n",
       "    .dataframe tbody tr th:only-of-type {\n",
       "        vertical-align: middle;\n",
       "    }\n",
       "\n",
       "    .dataframe tbody tr th {\n",
       "        vertical-align: top;\n",
       "    }\n",
       "\n",
       "    .dataframe thead th {\n",
       "        text-align: right;\n",
       "    }\n",
       "</style>\n",
       "<table border=\"1\" class=\"dataframe\">\n",
       "  <thead>\n",
       "    <tr style=\"text-align: right;\">\n",
       "      <th></th>\n",
       "      <th>OG</th>\n",
       "      <th>FG</th>\n",
       "      <th>ABV</th>\n",
       "      <th>IBU</th>\n",
       "      <th>Color</th>\n",
       "      <th>BoilTime</th>\n",
       "      <th>BoilGravity</th>\n",
       "      <th>PitchRate</th>\n",
       "      <th>Efficiency</th>\n",
       "      <th>UserId</th>\n",
       "    </tr>\n",
       "  </thead>\n",
       "  <tbody>\n",
       "    <tr>\n",
       "      <th>0</th>\n",
       "      <td>1.045</td>\n",
       "      <td>1.008</td>\n",
       "      <td>4.78</td>\n",
       "      <td>27.81</td>\n",
       "      <td>4.65</td>\n",
       "      <td>60</td>\n",
       "      <td>1.037</td>\n",
       "      <td>0.50</td>\n",
       "      <td>76.0</td>\n",
       "      <td>0.0</td>\n",
       "    </tr>\n",
       "    <tr>\n",
       "      <th>1</th>\n",
       "      <td>1.052</td>\n",
       "      <td>1.010</td>\n",
       "      <td>5.56</td>\n",
       "      <td>35.98</td>\n",
       "      <td>12.90</td>\n",
       "      <td>60</td>\n",
       "      <td>1.041</td>\n",
       "      <td>0.50</td>\n",
       "      <td>80.0</td>\n",
       "      <td>56565.0</td>\n",
       "    </tr>\n",
       "    <tr>\n",
       "      <th>2</th>\n",
       "      <td>1.079</td>\n",
       "      <td>1.021</td>\n",
       "      <td>7.64</td>\n",
       "      <td>64.83</td>\n",
       "      <td>41.03</td>\n",
       "      <td>75</td>\n",
       "      <td>1.058</td>\n",
       "      <td>1.00</td>\n",
       "      <td>70.0</td>\n",
       "      <td>15163.0</td>\n",
       "    </tr>\n",
       "    <tr>\n",
       "      <th>3</th>\n",
       "      <td>1.060</td>\n",
       "      <td>1.018</td>\n",
       "      <td>5.47</td>\n",
       "      <td>16.45</td>\n",
       "      <td>16.55</td>\n",
       "      <td>60</td>\n",
       "      <td>1.044</td>\n",
       "      <td>0.35</td>\n",
       "      <td>70.0</td>\n",
       "      <td>0.0</td>\n",
       "    </tr>\n",
       "    <tr>\n",
       "      <th>4</th>\n",
       "      <td>1.052</td>\n",
       "      <td>1.013</td>\n",
       "      <td>5.03</td>\n",
       "      <td>37.03</td>\n",
       "      <td>44.77</td>\n",
       "      <td>60</td>\n",
       "      <td>1.038</td>\n",
       "      <td>0.00</td>\n",
       "      <td>70.0</td>\n",
       "      <td>14759.0</td>\n",
       "    </tr>\n",
       "    <tr>\n",
       "      <th>...</th>\n",
       "      <td>...</td>\n",
       "      <td>...</td>\n",
       "      <td>...</td>\n",
       "      <td>...</td>\n",
       "      <td>...</td>\n",
       "      <td>...</td>\n",
       "      <td>...</td>\n",
       "      <td>...</td>\n",
       "      <td>...</td>\n",
       "      <td>...</td>\n",
       "    </tr>\n",
       "    <tr>\n",
       "      <th>4995</th>\n",
       "      <td>1.080</td>\n",
       "      <td>1.019</td>\n",
       "      <td>7.99</td>\n",
       "      <td>172.04</td>\n",
       "      <td>7.85</td>\n",
       "      <td>60</td>\n",
       "      <td>1.061</td>\n",
       "      <td>0.00</td>\n",
       "      <td>70.0</td>\n",
       "      <td>0.0</td>\n",
       "    </tr>\n",
       "    <tr>\n",
       "      <th>4996</th>\n",
       "      <td>1.056</td>\n",
       "      <td>1.015</td>\n",
       "      <td>5.46</td>\n",
       "      <td>32.03</td>\n",
       "      <td>12.01</td>\n",
       "      <td>60</td>\n",
       "      <td>1.044</td>\n",
       "      <td>1.25</td>\n",
       "      <td>76.0</td>\n",
       "      <td>0.0</td>\n",
       "    </tr>\n",
       "    <tr>\n",
       "      <th>4997</th>\n",
       "      <td>1.096</td>\n",
       "      <td>1.024</td>\n",
       "      <td>9.41</td>\n",
       "      <td>54.34</td>\n",
       "      <td>50.00</td>\n",
       "      <td>60</td>\n",
       "      <td>1.070</td>\n",
       "      <td>0.00</td>\n",
       "      <td>75.0</td>\n",
       "      <td>0.0</td>\n",
       "    </tr>\n",
       "    <tr>\n",
       "      <th>4998</th>\n",
       "      <td>1.057</td>\n",
       "      <td>1.014</td>\n",
       "      <td>5.63</td>\n",
       "      <td>46.67</td>\n",
       "      <td>32.77</td>\n",
       "      <td>60</td>\n",
       "      <td>1.042</td>\n",
       "      <td>0.00</td>\n",
       "      <td>70.0</td>\n",
       "      <td>19734.0</td>\n",
       "    </tr>\n",
       "    <tr>\n",
       "      <th>4999</th>\n",
       "      <td>1.079</td>\n",
       "      <td>1.015</td>\n",
       "      <td>8.38</td>\n",
       "      <td>43.80</td>\n",
       "      <td>30.33</td>\n",
       "      <td>60</td>\n",
       "      <td>1.067</td>\n",
       "      <td>1.00</td>\n",
       "      <td>77.0</td>\n",
       "      <td>75710.0</td>\n",
       "    </tr>\n",
       "  </tbody>\n",
       "</table>\n",
       "<p>5000 rows × 10 columns</p>\n",
       "</div>"
      ],
      "text/plain": [
       "         OG     FG   ABV     IBU  Color  BoilTime  BoilGravity  PitchRate  \\\n",
       "0     1.045  1.008  4.78   27.81   4.65        60        1.037       0.50   \n",
       "1     1.052  1.010  5.56   35.98  12.90        60        1.041       0.50   \n",
       "2     1.079  1.021  7.64   64.83  41.03        75        1.058       1.00   \n",
       "3     1.060  1.018  5.47   16.45  16.55        60        1.044       0.35   \n",
       "4     1.052  1.013  5.03   37.03  44.77        60        1.038       0.00   \n",
       "...     ...    ...   ...     ...    ...       ...          ...        ...   \n",
       "4995  1.080  1.019  7.99  172.04   7.85        60        1.061       0.00   \n",
       "4996  1.056  1.015  5.46   32.03  12.01        60        1.044       1.25   \n",
       "4997  1.096  1.024  9.41   54.34  50.00        60        1.070       0.00   \n",
       "4998  1.057  1.014  5.63   46.67  32.77        60        1.042       0.00   \n",
       "4999  1.079  1.015  8.38   43.80  30.33        60        1.067       1.00   \n",
       "\n",
       "      Efficiency   UserId  \n",
       "0           76.0      0.0  \n",
       "1           80.0  56565.0  \n",
       "2           70.0  15163.0  \n",
       "3           70.0      0.0  \n",
       "4           70.0  14759.0  \n",
       "...          ...      ...  \n",
       "4995        70.0      0.0  \n",
       "4996        76.0      0.0  \n",
       "4997        75.0      0.0  \n",
       "4998        70.0  19734.0  \n",
       "4999        77.0  75710.0  \n",
       "\n",
       "[5000 rows x 10 columns]"
      ]
     },
     "execution_count": 49,
     "metadata": {},
     "output_type": "execute_result"
    }
   ],
   "source": [
    "X_test"
   ]
  },
  {
   "cell_type": "markdown",
   "metadata": {},
   "source": [
    "# Model"
   ]
  },
  {
   "cell_type": "code",
   "execution_count": 27,
   "metadata": {},
   "outputs": [],
   "source": [
    "from sklearn.model_selection import train_test_split\n",
    "from sklearn.metrics import accuracy_score\n",
    "\n",
    "X = df.drop('IsIPA', axis = 1)\n",
    "y = df['IsIPA']\n",
    "X_train, X_val, y_train, y_val = train_test_split(X,y,test_size = 0.30, random_state = 42)"
   ]
  },
  {
   "cell_type": "code",
   "execution_count": 79,
   "metadata": {},
   "outputs": [],
   "source": [
    "from sklearn.ensemble import RandomForestClassifier#,GradientBoostingRegressor\n",
    "import numpy as np\n",
    "\n",
    "def acc(model,X,y): #accuracy test\n",
    "    return accuracy_score( y, model.predict(X) )"
   ]
  },
  {
   "cell_type": "code",
   "execution_count": 118,
   "metadata": {},
   "outputs": [],
   "source": [
    "#Checking number of tress influence on RMSE\n",
    "rfr = RandomForestClassifier\n",
    "N = [10,50,100,200,300,400,500]\n",
    "acc_list= [acc(rfr(n,n_jobs=-1).fit(X_train,y_train),X_val,y_val) for n in N]\n",
    "model = rfr(10,n_jobs=-1).fit(X_train,y_train)"
   ]
  },
  {
   "cell_type": "code",
   "execution_count": 119,
   "metadata": {},
   "outputs": [
    {
     "data": {
      "text/plain": [
       "400"
      ]
     },
     "execution_count": 119,
     "metadata": {},
     "output_type": "execute_result"
    },
    {
     "data": {
      "image/png": "[encoded data removed]",
      "text/plain": [
       "<Figure size 432x288 with 1 Axes>"
      ]
     },
     "metadata": {
      "needs_background": "light"
     },
     "output_type": "display_data"
    }
   ],
   "source": [
    "import matplotlib.pyplot as plt\n",
    "\n",
    "plt.plot(N,acc_list,'.-',color='g');\n",
    "N[np.argmax(acc_list)]"
   ]
  },
  {
   "cell_type": "code",
   "execution_count": 120,
   "metadata": {},
   "outputs": [],
   "source": [
    "#Checking number of features influence on RMSE\n",
    "features = np.linspace(1,X_train.shape[1],10).astype(int)\n",
    "acc_list_features= [acc(\n",
    "    rfr(400\n",
    "        ,max_features=n\n",
    "        ,n_jobs=-1\n",
    "       ).fit(\n",
    "        X_train\n",
    "        ,y_train\n",
    "        )\n",
    "    ,X_val\n",
    "    ,y_val) \n",
    "                   for n in features]"
   ]
  },
  {
   "cell_type": "code",
   "execution_count": 121,
   "metadata": {},
   "outputs": [
    {
     "data": {
      "text/plain": [
       "4"
      ]
     },
     "execution_count": 121,
     "metadata": {},
     "output_type": "execute_result"
    },
    {
     "data": {
      "image/png": "[encoded data removed]",
      "text/plain": [
       "<Figure size 432x288 with 1 Axes>"
      ]
     },
     "metadata": {
      "needs_background": "light"
     },
     "output_type": "display_data"
    }
   ],
   "source": [
    "plt.plot(features,acc_list_features,'.-',color='r');\n",
    "features[np.argmax(acc_list_features)]"
   ]
  },
  {
   "cell_type": "markdown",
   "metadata": {},
   "source": [
    "### train model once again (using all data available)"
   ]
  },
  {
   "cell_type": "code",
   "execution_count": 122,
   "metadata": {},
   "outputs": [],
   "source": [
    "best_rf = rfr(400, max_features = 4,n_jobs=-1).fit(X,y)"
   ]
  },
  {
   "cell_type": "code",
   "execution_count": 136,
   "metadata": {},
   "outputs": [],
   "source": [
    "np.savetxt(\"kapitan_Bomba_IPA_prediction.csv\", best_rf.predict(X_test), delimiter=\",\")"
   ]
  }
 ],
 "metadata": {
  "kernelspec": {
   "display_name": "Python 3",
   "language": "python",
   "name": "python3"
  },
  "language_info": {
   "codemirror_mode": {
    "name": "ipython",
    "version": 3
   },
   "file_extension": ".py",
   "mimetype": "text/x-python",
   "name": "python",
   "nbconvert_exporter": "python",
   "pygments_lexer": "ipython3",
   "version": "3.6.12"
  }
 },
 "nbformat": 4,
 "nbformat_minor": 4
}
